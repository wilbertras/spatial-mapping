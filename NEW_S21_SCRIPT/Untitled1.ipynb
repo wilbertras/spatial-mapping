{
 "cells": [
  {
   "cell_type": "code",
   "execution_count": 17,
   "id": "4b9cec92-baf4-457a-bd22-45e6bb21ac23",
   "metadata": {},
   "outputs": [],
   "source": [
    "import numpy as np\n",
    "import glob\n",
    "import re\n",
    "import os\n",
    "\n",
    "import KID_S21 as S21\n",
    "\n",
    "import matplotlib.pyplot as plt\n",
    "\n",
    "files = sorted(glob.glob('Test_S21/KID*.dat'))\n",
    "\n",
    "kid = []\n",
    "for file in files:\n",
    "    kid.append(int(re.findall(\"KID(\\d+)_\\d{3}dBm_\", file)[0]))\n",
    "\n",
    "    "
   ]
  },
  {
   "cell_type": "code",
   "execution_count": 2,
   "id": "d1b362ba-f64d-40cb-9497-124af38d0f23",
   "metadata": {},
   "outputs": [],
   "source": [
    "## logbook\n",
    "\n",
    "# - in data if datarange in freq is below or above a certain range we know that there is an issue...\n",
    "# - add internal power\n",
    "# - min and max temperature\n",
    "# - smaller fit range\n",
    "\n"
   ]
  },
  {
   "cell_type": "code",
   "execution_count": 3,
   "id": "e1c7424d-251f-46dd-852e-60f8b3817320",
   "metadata": {},
   "outputs": [],
   "source": [
    "[files, kids] = S21.find_S21_files('Test_S21/')"
   ]
  },
  {
   "cell_type": "code",
   "execution_count": 4,
   "id": "ce9d4296-4074-46e8-a158-bb55e25e7a89",
   "metadata": {},
   "outputs": [],
   "source": [
    "import re\n",
    "\n",
    "def extract_data_by_temperature(file_contents):\n",
    "    data_by_temperature = {}\n",
    "    current_temperature = None\n",
    "    current_data = []\n",
    "\n",
    "    for line in file_contents:\n",
    "        # Check if the line contains temperature information\n",
    "        temp_match = re.match(r'Temperature in K:(\\d+\\.\\d+)', line)\n",
    "        if temp_match:\n",
    "            #print(f\"Found temperature: {temp_match.group(1)}\")\n",
    "            if current_temperature is not None and current_data:\n",
    "                # Store the current data block before moving to the next temperature\n",
    "                data_by_temperature[current_temperature] = current_data\n",
    "            \n",
    "            # Start a new temperature section\n",
    "            current_temperature = float(temp_match.group(1))\n",
    "            current_data = []\n",
    "        \n",
    "        # Check if the line contains tab-separated data (GHz, dB, Rad)\n",
    "        elif re.match(r'\\d+\\.\\d+\\t', line):\n",
    "            current_data.append(line.strip().split('\\t'))\n",
    "    \n",
    "    # Save the last block of data\n",
    "    if current_temperature is not None and current_data:\n",
    "        data_by_temperature[current_temperature] = current_data\n",
    "\n",
    "    return data_by_temperature"
   ]
  },
  {
   "cell_type": "code",
   "execution_count": 6,
   "id": "0cbf4370-07b7-497c-aa0a-ef095ae4b6b7",
   "metadata": {},
   "outputs": [],
   "source": [
    "import pandas as pd\n",
    "import re\n",
    "\n",
    "def preprocess_file(file_contents):\n",
    "    data_by_temperature = {}\n",
    "    current_temperature = None\n",
    "    current_data = []\n",
    "\n",
    "    for line in file_contents:\n",
    "        # Check if the line contains temperature information\n",
    "        temp_match = re.match(r'Temperature in K:(\\d+\\.\\d+)', line)\n",
    "        if temp_match:\n",
    "            if current_temperature is not None and current_data:\n",
    "                # Convert current_data list to a pandas DataFrame and store it\n",
    "                df = pd.read_csv(pd.compat.StringIO(\"\\n\".join(current_data)), sep='\\t', header=None, names=['Frequency', 'dB', 'Rad'])\n",
    "                data_by_temperature[current_temperature] = df\n",
    "            \n",
    "            # Start a new temperature section\n",
    "            current_temperature = float(temp_match.group(1))\n",
    "            current_data = []\n",
    "        \n",
    "        # Check if the line contains tab-separated data (GHz, dB, Rad)\n",
    "        elif re.match(r'\\d+\\.\\d+\\t', line):\n",
    "            current_data.append(line.strip())\n",
    "    \n",
    "    # Save the last block of data\n",
    "    if current_temperature is not None and current_data:\n",
    "        df = pd.read_csv(pd.compat.StringIO(\"\\n\".join(current_data)), sep='\\t', header=None, names=['Frequency', 'dB', 'Rad'])\n",
    "        data_by_temperature[current_temperature] = df\n",
    "\n",
    "    return data_by_temperature\n",
    "\n",
    "# # Read the file\n",
    "# file_path = '/path/to/your/KID1_102dBm_.dat'\n",
    "\n",
    "# with open(file_path, 'r') as file:\n",
    "#     file_contents = file.readlines()\n",
    "\n",
    "# # Preprocess the file and store the data organized by temperature\n",
    "# data_by_temperature = preprocess_file(file_contents)"
   ]
  },
  {
   "cell_type": "code",
   "execution_count": 7,
   "id": "f0b24880-a1c0-4375-a7c1-a5773d453c41",
   "metadata": {},
   "outputs": [],
   "source": [
    "import pandas as pd\n",
    "import re\n",
    "import io\n",
    "\n",
    "def preprocess_file_fast(file_contents):\n",
    "    data_by_temperature = {}\n",
    "    current_temperature = None\n",
    "    current_data = []\n",
    "\n",
    "    # Process each line, reducing Python overhead\n",
    "    for line in file_contents:\n",
    "        # If temperature is found\n",
    "        temp_match = re.match(r'Temperature in K:(\\d+\\.\\d+)', line)\n",
    "        if temp_match:\n",
    "            if current_temperature is not None and current_data:\n",
    "                # Convert current_data to a pandas DataFrame\n",
    "                data_str = \"\\n\".join(current_data)\n",
    "                df = pd.read_csv(io.StringIO(data_str), sep='\\t', header=None, names=['Frequency', 'dB', 'Rad'])\n",
    "                data_by_temperature[current_temperature] = df\n",
    "            \n",
    "            # Set new temperature and reset current data\n",
    "            current_temperature = float(temp_match.group(1))\n",
    "            current_data = []\n",
    "        \n",
    "        # Collect tab-separated data (GHz, dB, Rad)\n",
    "        elif re.match(r'\\d+\\.\\d+\\t', line):\n",
    "            current_data.append(line.strip())\n",
    "    \n",
    "    # Save the last block of data\n",
    "    if current_temperature is not None and current_data:\n",
    "        data_str = \"\\n\".join(current_data)\n",
    "        df = pd.read_csv(io.StringIO(data_str), sep='\\t', header=None, names=['Frequency', 'dB', 'Rad'])\n",
    "        data_by_temperature[current_temperature] = df\n",
    "\n",
    "    return data_by_temperature"
   ]
  },
  {
   "cell_type": "code",
   "execution_count": 8,
   "id": "1f9845b5-a72c-4c8a-ba87-05078c9378b2",
   "metadata": {},
   "outputs": [],
   "source": [
    "# Read the file\n",
    "file_path = 'Test_S21_2D/KID1_126dBm_.dat'\n",
    "\n",
    "with open(file_path, 'r') as file:\n",
    "    file_contents = file.readlines()\n",
    "\n",
    "# Extract data organized by temperature\n",
    "data_by_temperature = preprocess_file_fast(file_contents)"
   ]
  },
  {
   "cell_type": "code",
   "execution_count": 24,
   "id": "13bcdffe-e264-43b3-a6aa-a3516deccf09",
   "metadata": {},
   "outputs": [],
   "source": [
    "all_temperatures = list(data_by_temperature.keys())"
   ]
  },
  {
   "cell_type": "code",
   "execution_count": 27,
   "id": "51bc82d2-23f0-4382-836a-844d2cc677e9",
   "metadata": {},
   "outputs": [
    {
     "data": {
      "text/plain": [
       "[0.021563,\n",
       " 0.039716,\n",
       " 0.060305,\n",
       " 0.080961,\n",
       " 0.101531,\n",
       " 0.122612,\n",
       " 0.143989,\n",
       " 0.165384]"
      ]
     },
     "execution_count": 27,
     "metadata": {},
     "output_type": "execute_result"
    }
   ],
   "source": [
    "plot_temperatures = all_temperatures[::10]\n",
    "plot_temperatures"
   ]
  },
  {
   "cell_type": "code",
   "execution_count": 20,
   "id": "dee3388f-beaf-4cfe-b3aa-97b2e2e957af",
   "metadata": {},
   "outputs": [
    {
     "name": "stdout",
     "output_type": "stream",
     "text": [
      "Data for 0.021563 K saved to temperature_data/KID_P_21.56mK.csv\n",
      "Data for 0.021287 K saved to temperature_data/KID_P_21.29mK.csv\n",
      "Data for 0.023335 K saved to temperature_data/KID_P_23.34mK.csv\n",
      "Data for 0.025376 K saved to temperature_data/KID_P_25.38mK.csv\n",
      "Data for 0.027461 K saved to temperature_data/KID_P_27.46mK.csv\n",
      "Data for 0.029501 K saved to temperature_data/KID_P_29.50mK.csv\n",
      "Data for 0.031523 K saved to temperature_data/KID_P_31.52mK.csv\n",
      "Data for 0.033556 K saved to temperature_data/KID_P_33.56mK.csv\n",
      "Data for 0.035669 K saved to temperature_data/KID_P_35.67mK.csv\n",
      "Data for 0.037725 K saved to temperature_data/KID_P_37.73mK.csv\n",
      "Data for 0.039716 K saved to temperature_data/KID_P_39.72mK.csv\n",
      "Data for 0.041859 K saved to temperature_data/KID_P_41.86mK.csv\n",
      "Data for 0.043886 K saved to temperature_data/KID_P_43.89mK.csv\n",
      "Data for 0.045908 K saved to temperature_data/KID_P_45.91mK.csv\n",
      "Data for 0.047902 K saved to temperature_data/KID_P_47.90mK.csv\n",
      "Data for 0.050049 K saved to temperature_data/KID_P_50.05mK.csv\n",
      "Data for 0.052097 K saved to temperature_data/KID_P_52.10mK.csv\n",
      "Data for 0.05414 K saved to temperature_data/KID_P_54.14mK.csv\n",
      "Data for 0.056104 K saved to temperature_data/KID_P_56.10mK.csv\n",
      "Data for 0.058283 K saved to temperature_data/KID_P_58.28mK.csv\n",
      "Data for 0.060305 K saved to temperature_data/KID_P_60.30mK.csv\n",
      "Data for 0.06235 K saved to temperature_data/KID_P_62.35mK.csv\n",
      "Data for 0.064398 K saved to temperature_data/KID_P_64.40mK.csv\n",
      "Data for 0.066469 K saved to temperature_data/KID_P_66.47mK.csv\n",
      "Data for 0.068526 K saved to temperature_data/KID_P_68.53mK.csv\n",
      "Data for 0.070627 K saved to temperature_data/KID_P_70.63mK.csv\n",
      "Data for 0.072693 K saved to temperature_data/KID_P_72.69mK.csv\n",
      "Data for 0.074752 K saved to temperature_data/KID_P_74.75mK.csv\n",
      "Data for 0.076721 K saved to temperature_data/KID_P_76.72mK.csv\n",
      "Data for 0.078765 K saved to temperature_data/KID_P_78.77mK.csv\n",
      "Data for 0.080961 K saved to temperature_data/KID_P_80.96mK.csv\n",
      "Data for 0.082921 K saved to temperature_data/KID_P_82.92mK.csv\n",
      "Data for 0.084955 K saved to temperature_data/KID_P_84.95mK.csv\n",
      "Data for 0.086996 K saved to temperature_data/KID_P_87.00mK.csv\n",
      "Data for 0.089093 K saved to temperature_data/KID_P_89.09mK.csv\n",
      "Data for 0.091181 K saved to temperature_data/KID_P_91.18mK.csv\n",
      "Data for 0.093267 K saved to temperature_data/KID_P_93.27mK.csv\n",
      "Data for 0.095211 K saved to temperature_data/KID_P_95.21mK.csv\n",
      "Data for 0.097378 K saved to temperature_data/KID_P_97.38mK.csv\n",
      "Data for 0.099397 K saved to temperature_data/KID_P_99.40mK.csv\n",
      "Data for 0.101531 K saved to temperature_data/KID_P_101.53mK.csv\n",
      "Data for 0.103626 K saved to temperature_data/KID_P_103.63mK.csv\n",
      "Data for 0.105621 K saved to temperature_data/KID_P_105.62mK.csv\n",
      "Data for 0.107692 K saved to temperature_data/KID_P_107.69mK.csv\n",
      "Data for 0.109839 K saved to temperature_data/KID_P_109.84mK.csv\n",
      "Data for 0.11181 K saved to temperature_data/KID_P_111.81mK.csv\n",
      "Data for 0.11406 K saved to temperature_data/KID_P_114.06mK.csv\n",
      "Data for 0.116091 K saved to temperature_data/KID_P_116.09mK.csv\n",
      "Data for 0.118193 K saved to temperature_data/KID_P_118.19mK.csv\n",
      "Data for 0.120407 K saved to temperature_data/KID_P_120.41mK.csv\n",
      "Data for 0.122612 K saved to temperature_data/KID_P_122.61mK.csv\n",
      "Data for 0.124617 K saved to temperature_data/KID_P_124.62mK.csv\n",
      "Data for 0.126849 K saved to temperature_data/KID_P_126.85mK.csv\n",
      "Data for 0.128885 K saved to temperature_data/KID_P_128.88mK.csv\n",
      "Data for 0.131111 K saved to temperature_data/KID_P_131.11mK.csv\n",
      "Data for 0.133183 K saved to temperature_data/KID_P_133.18mK.csv\n",
      "Data for 0.135322 K saved to temperature_data/KID_P_135.32mK.csv\n",
      "Data for 0.137479 K saved to temperature_data/KID_P_137.48mK.csv\n",
      "Data for 0.139606 K saved to temperature_data/KID_P_139.61mK.csv\n",
      "Data for 0.14186 K saved to temperature_data/KID_P_141.86mK.csv\n",
      "Data for 0.143989 K saved to temperature_data/KID_P_143.99mK.csv\n",
      "Data for 0.146142 K saved to temperature_data/KID_P_146.14mK.csv\n",
      "Data for 0.148317 K saved to temperature_data/KID_P_148.32mK.csv\n",
      "Data for 0.150414 K saved to temperature_data/KID_P_150.41mK.csv\n",
      "Data for 0.152453 K saved to temperature_data/KID_P_152.45mK.csv\n",
      "Data for 0.154595 K saved to temperature_data/KID_P_154.59mK.csv\n",
      "Data for 0.156835 K saved to temperature_data/KID_P_156.84mK.csv\n",
      "Data for 0.158968 K saved to temperature_data/KID_P_158.97mK.csv\n",
      "Data for 0.161083 K saved to temperature_data/KID_P_161.08mK.csv\n",
      "Data for 0.163197 K saved to temperature_data/KID_P_163.20mK.csv\n",
      "Data for 0.165384 K saved to temperature_data/KID_P_165.38mK.csv\n",
      "Data for 0.167567 K saved to temperature_data/KID_P_167.57mK.csv\n"
     ]
    }
   ],
   "source": [
    "# Directory to save CSV files\n",
    "output_dir = \"temperature_data\"\n",
    "os.makedirs(output_dir, exist_ok=True)\n",
    "\n",
    "for temperature, df in data_by_temperature.items():\n",
    "    #print(f\"Temperature: {temperature} K\")\n",
    "\n",
    "    # Extract Frequency and S21 data\n",
    "    frequencies = df['Frequency'].values\n",
    "    s21_values = df['dB'].values\n",
    "    rad_values = df['Rad'].values\n",
    "    \n",
    "    file_name = f\"KID_P_{temperature*1e3:.2f}mK.csv\"\n",
    "    output_path = os.path.join(output_dir, file_name)\n",
    "\n",
    "    # Save the DataFrame (Frequency, S21, Rad) to CSV\n",
    "    df.to_csv(output_path, index=False)\n",
    "\n",
    "    print(f\"Data for {temperature} K saved to {output_path}\")"
   ]
  },
  {
   "cell_type": "code",
   "execution_count": 21,
   "id": "0b17309d-9daf-4757-a344-a07a279ff65a",
   "metadata": {},
   "outputs": [
    {
     "data": {
      "text/plain": [
       "0.167567"
      ]
     },
     "execution_count": 21,
     "metadata": {},
     "output_type": "execute_result"
    }
   ],
   "source": [
    "temperature"
   ]
  },
  {
   "cell_type": "code",
   "execution_count": 13,
   "id": "3d18095f-2e4c-47f6-9d96-5f661bc564ab",
   "metadata": {},
   "outputs": [
    {
     "data": {
      "text/plain": [
       "array([2.458218, 2.458218, 2.458218, ..., 2.458218, 2.458218, 2.458218])"
      ]
     },
     "execution_count": 13,
     "metadata": {},
     "output_type": "execute_result"
    }
   ],
   "source": [
    "\n",
    "\n",
    "# Loop over each temperature and save to CSV\n",
    "for temperature, df in data_by_temperature.items():\n",
    "    # Create a filename based on the temperature\n",
    "    file_name = f\"temperature_{temperature:.6f}K.csv\"\n",
    "    output_path = os.path.join(output_dir, file_name)\n",
    "\n",
    "    # Save the DataFrame (Frequency, S21, Rad) to CSV\n",
    "    df.to_csv(output_path, index=False)\n",
    "\n",
    "    print(f\"Data for {temperature} K saved to {output_path}\")\n"
   ]
  },
  {
   "cell_type": "code",
   "execution_count": 9,
   "id": "5110f7b3-2ce4-44d6-a9a2-3687bba8f1cf",
   "metadata": {},
   "outputs": [
    {
     "ename": "ValueError",
     "evalue": "too many values to unpack (expected 3)",
     "output_type": "error",
     "traceback": [
      "\u001b[0;31m---------------------------------------------------------------------------\u001b[0m",
      "\u001b[0;31mValueError\u001b[0m                                Traceback (most recent call last)",
      "\u001b[0;32m/var/folders/_9/0ffzcwws37n6txgdm8k3tkl00000gp/T/ipykernel_43577/530189233.py\u001b[0m in \u001b[0;36m<module>\u001b[0;34m\u001b[0m\n\u001b[1;32m     13\u001b[0m     \u001b[0;31m# Print the data (Frequency, dB, Rad) for this temperature\u001b[0m\u001b[0;34m\u001b[0m\u001b[0;34m\u001b[0m\u001b[0;34m\u001b[0m\u001b[0m\n\u001b[1;32m     14\u001b[0m     \u001b[0;32mfor\u001b[0m \u001b[0mrow\u001b[0m \u001b[0;32min\u001b[0m \u001b[0mtemp_data\u001b[0m\u001b[0;34m:\u001b[0m\u001b[0;34m\u001b[0m\u001b[0;34m\u001b[0m\u001b[0m\n\u001b[0;32m---> 15\u001b[0;31m         \u001b[0mfreq\u001b[0m\u001b[0;34m,\u001b[0m \u001b[0mdb\u001b[0m\u001b[0;34m,\u001b[0m \u001b[0mrad\u001b[0m \u001b[0;34m=\u001b[0m \u001b[0mrow\u001b[0m\u001b[0;34m\u001b[0m\u001b[0;34m\u001b[0m\u001b[0m\n\u001b[0m\u001b[1;32m     16\u001b[0m \u001b[0;34m\u001b[0m\u001b[0m\n\u001b[1;32m     17\u001b[0m         \u001b[0mf\u001b[0m\u001b[0;34m.\u001b[0m\u001b[0mappend\u001b[0m\u001b[0;34m(\u001b[0m\u001b[0mfloat\u001b[0m\u001b[0;34m(\u001b[0m\u001b[0mfreq\u001b[0m\u001b[0;34m)\u001b[0m\u001b[0;34m)\u001b[0m\u001b[0;34m\u001b[0m\u001b[0;34m\u001b[0m\u001b[0m\n",
      "\u001b[0;31mValueError\u001b[0m: too many values to unpack (expected 3)"
     ]
    }
   ],
   "source": [
    "# Loop over each temperature and get the corresponding data\n",
    "\n",
    "f_list = []\n",
    "S21_dB_list = []\n",
    "\n",
    "for temperature, temp_data in data_by_temperature.items():\n",
    "    #print(f\"Temperature: {temperature} K\")\n",
    "    \n",
    "    f = []\n",
    "    S21_dB = []\n",
    "    S21_rad = []\n",
    "    \n",
    "    # Print the data (Frequency, dB, Rad) for this temperature\n",
    "    for row in temp_data:\n",
    "        freq, db, rad = row\n",
    "        \n",
    "        f.append(float(freq))\n",
    "        S21_dB.append(float(db))\n",
    "        S21_rad.append(float(rad))\n",
    "        \n",
    "        S21_data = np.array([f, S21_dB, S21_rad])\n",
    "        f = None\n",
    "        S21_dB = None\n",
    "        S21_rad = None\n",
    "        \n",
    "        #np.savetxt(\"test.csv\", S21_data, delimiter = \",\")"
   ]
  },
  {
   "cell_type": "code",
   "execution_count": 10,
   "id": "0621b5a6-8641-47da-a29e-2c4e7e61056e",
   "metadata": {},
   "outputs": [
    {
     "data": {
      "text/plain": [
       "'Frequency'"
      ]
     },
     "execution_count": 10,
     "metadata": {},
     "output_type": "execute_result"
    }
   ],
   "source": [
    "row"
   ]
  },
  {
   "cell_type": "code",
   "execution_count": null,
   "id": "38d616c4-f45a-4c33-ba42-c669dd19811b",
   "metadata": {},
   "outputs": [],
   "source": [
    "fig, ax = plt.subplots()\n",
    "ax.plot(f_list[0], S21_dB_list[0])"
   ]
  },
  {
   "cell_type": "code",
   "execution_count": null,
   "id": "c1358db9-3c6c-4563-a7db-d3ac4e8856cd",
   "metadata": {},
   "outputs": [],
   "source": [
    "fig, ax = plt.subplots()\n",
    "ax.plot(f, S21_dB)"
   ]
  },
  {
   "cell_type": "code",
   "execution_count": null,
   "id": "ebb19c7e-aa81-424b-a4d9-ee9414f2e5c3",
   "metadata": {},
   "outputs": [],
   "source": [
    "f"
   ]
  },
  {
   "cell_type": "code",
   "execution_count": null,
   "id": "2c67ec67-164e-486e-9df8-cbaf18c26f69",
   "metadata": {},
   "outputs": [],
   "source": [
    "data_by_temperature.items()"
   ]
  },
  {
   "cell_type": "code",
   "execution_count": null,
   "id": "e5c3f9ff-4ada-42a1-95cb-f8d674a4950a",
   "metadata": {},
   "outputs": [],
   "source": [
    "# Print a list of all temperatures\n",
    "all_temperatures = list(data_by_temperature.keys())\n",
    "print(all_temperatures)"
   ]
  },
  {
   "cell_type": "code",
   "execution_count": null,
   "id": "1c0893a3-c826-4ad8-aaa2-3302073dfdf0",
   "metadata": {},
   "outputs": [],
   "source": [
    "all_temperatures = list(test.keys())\n",
    "print(all_temperatures)"
   ]
  },
  {
   "cell_type": "code",
   "execution_count": null,
   "id": "21348674-5047-4d48-9848-83535dec10ce",
   "metadata": {},
   "outputs": [],
   "source": [
    "path = 'S21_files/'\n",
    "files = sorted(glob.glob(path + 'KID*.dat')) # a sorted lis of filenames in path\n",
    "nr_files = len(files)\n",
    "\n",
    "kid = []\n",
    "for file in files:\n",
    "    kid.append(int(re.findall(\"KID(\\d+)_\\d{3}dBm_\", file)[0]))\n",
    "\n",
    "kids = np.unique(kid)"
   ]
  },
  {
   "cell_type": "code",
   "execution_count": null,
   "id": "dabfd24a-fb77-44ef-b20c-1ea50ba192fe",
   "metadata": {},
   "outputs": [],
   "source": [
    "files[0]"
   ]
  },
  {
   "cell_type": "code",
   "execution_count": null,
   "id": "7be1f87d-7cc2-4dd2-9541-b4a4acc8e519",
   "metadata": {},
   "outputs": [],
   "source": []
  }
 ],
 "metadata": {
  "kernelspec": {
   "display_name": "Python 3 (ipykernel)",
   "language": "python",
   "name": "python3"
  },
  "language_info": {
   "codemirror_mode": {
    "name": "ipython",
    "version": 3
   },
   "file_extension": ".py",
   "mimetype": "text/x-python",
   "name": "python",
   "nbconvert_exporter": "python",
   "pygments_lexer": "ipython3",
   "version": "3.8.15"
  }
 },
 "nbformat": 4,
 "nbformat_minor": 5
}
