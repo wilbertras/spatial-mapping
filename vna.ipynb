{
 "cells": [
  {
   "cell_type": "code",
   "execution_count": null,
   "metadata": {},
   "outputs": [],
   "source": [
    "import matplotlib.pyplot as plt\n",
    "from calibration import read_txt\n",
    "import numpy as np\n",
    "import vna\n",
    "from scipy.interpolate import interp1d\n",
    "%matplotlib widget"
   ]
  },
  {
   "cell_type": "code",
   "execution_count": null,
   "metadata": {},
   "outputs": [],
   "source": [
    "BFout = np.load('calibration files/BFout.npy')\n",
    "BFin = np.load('calibration files/BFin.npy')\n",
    "RFout = np.load('calibration files/RFout.npy')\n",
    "bfout = interp1d(BFout[:, 0], BFout[:, 1])\n",
    "bfin = interp1d(BFin[:, 0], BFin[:, 1])\n",
    "rfout = interp1d(RFout[:, 0], RFout[:, 1])"
   ]
  },
  {
   "cell_type": "code",
   "execution_count": null,
   "metadata": {},
   "outputs": [],
   "source": [
    "fstop = 8  # GHz\n",
    "fstart = 4  # GHz\n",
    "totscanbw = fstop - fstart\n",
    "num_points = 101\n",
    "subscanbw = 0.1  # GHz\n",
    "num_subscans = int(np.ceil(totscanbw / subscanbw))\n",
    "realfstart = fstart\n",
    "realfstop = fstart + num_subscans * subscanbw\n",
    "f0start = realfstart + subscanbw / 2\n",
    "kidpower = -110\n",
    "ifbw = 10000  # Hz"
   ]
  },
  {
   "cell_type": "code",
   "execution_count": 7,
   "metadata": {},
   "outputs": [],
   "source": [
    "print(num_subscans)\n",
    "for i in range(num_subscans):\n",
    "    print(i)\n",
    "    f0 = f0start + i*subscanbw\n",
    "    KID_cryoOUt = bfout(f0)\n",
    "    GainRFbox = rfout(f0)\n",
    "    PcryoOUt = kidpower + KID_cryoOUt + GainRFbox\n",
    "    PVNAin = PcryoOUt + 2\n",
    "    if PVNAin > 62:\n",
    "        PVNAin = 62\n",
    "        print('PVNAin > 62')\n",
    "    elif PVNAin < 2:\n",
    "        PVNAin = 2\n",
    "        print('PVNAin < 2')\n",
    "    weinschell = np.round(PVNAin / 2) * 2\n",
    "    vna.set_weinschell(weinschell)\n",
    "    KID_cryoIn = bfin(f0)\n",
    "    vna_power = kidpower - KID_cryoIn \n",
    "    freqs, s21 = vna.get_s21(f0, subscanbw, num_points, vna_power, ifbw)\n",
    "    vna.plot_s21(freqs, s21)\n",
    "\n"
   ]
  },
  {
   "cell_type": "code",
   "execution_count": null,
   "metadata": {},
   "outputs": [],
   "source": [
    "freqs, s21 = vna.get_s21(4, 8, 101, 1000)\n",
    "print(s21)\n"
   ]
  },
  {
   "cell_type": "code",
   "execution_count": null,
   "metadata": {},
   "outputs": [],
   "source": [
    "vna.plot_s21(freqs, s21)"
   ]
  },
  {
   "cell_type": "code",
   "execution_count": null,
   "metadata": {},
   "outputs": [],
   "source": []
  }
 ],
 "metadata": {
  "kernelspec": {
   "display_name": ".venv",
   "language": "python",
   "name": "python3"
  },
  "language_info": {
   "codemirror_mode": {
    "name": "ipython",
    "version": 3
   },
   "file_extension": ".py",
   "mimetype": "text/x-python",
   "name": "python",
   "nbconvert_exporter": "python",
   "pygments_lexer": "ipython3",
   "version": "3.11.5"
  },
  "orig_nbformat": 4,
  "vscode": {
   "interpreter": {
    "hash": "ee26f7409316daca8ef2e9f71bea2afa8f61410a841c91f6c5c047503e08e436"
   }
  }
 },
 "nbformat": 4,
 "nbformat_minor": 2
}
