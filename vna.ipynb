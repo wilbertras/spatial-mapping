{
 "cells": [
  {
   "cell_type": "code",
   "execution_count": 34,
   "metadata": {},
   "outputs": [],
   "source": [
    "import matplotlib.pyplot as plt\n",
    "from calibration import read_txt\n",
    "import numpy as np\n",
    "import vna\n",
    "from scipy.interpolate import interp1d\n",
    "%matplotlib widget"
   ]
  },
  {
   "cell_type": "code",
   "execution_count": 40,
   "metadata": {},
   "outputs": [],
   "source": [
    "BF_calib = np.load('calibration files/BF_calib.npy')\n",
    "RF_calib = np.load('calibration files/RF_calib.npy')\n",
    "bf = interp1d(BF_calib[:, 0], BF_calib[:, 1])\n",
    "rf = interp1d(RF_calib[:, 0], RF_calib[:, 1])"
   ]
  },
  {
   "cell_type": "code",
   "execution_count": 51,
   "metadata": {},
   "outputs": [
    {
     "name": "stdout",
     "output_type": "stream",
     "text": [
      "43.87284484848485 44.0 -0.12715515151514722\n"
     ]
    }
   ],
   "source": [
    "f_inter = 4\n",
    "KIDpower = -60\n",
    "KID_cryoOUt = bf(f_inter)\n",
    "GainRFbox = rf(f_inter)\n",
    "PcryoOUt = KIDpower + KID_cryoOUt + GainRFbox\n",
    "PVNAin = PcryoOUt + 2\n",
    "if PVNAin > 62:\n",
    "    PVNAin = 62\n",
    "    print('PVNAin > 62')\n",
    "elif PVNAin < 2:\n",
    "    PVNAin = 2\n",
    "    print('PVNAin < 2')\n",
    "Weinschell = np.round(PVNAin / 2) * 2\n",
    "PatVNA = PVNAin - Weinschell\n",
    "print(PVNAin, Weinschell, PatVNA)\n",
    "\n"
   ]
  },
  {
   "cell_type": "code",
   "execution_count": null,
   "metadata": {},
   "outputs": [],
   "source": [
    "freqs, s21 = vna.get_s21(4, 8, 101, 1000)\n",
    "print(s21)\n"
   ]
  },
  {
   "cell_type": "code",
   "execution_count": null,
   "metadata": {},
   "outputs": [],
   "source": [
    "vna.plot_s21(freqs, s21)"
   ]
  },
  {
   "cell_type": "code",
   "execution_count": null,
   "metadata": {},
   "outputs": [],
   "source": []
  }
 ],
 "metadata": {
  "kernelspec": {
   "display_name": ".venv",
   "language": "python",
   "name": "python3"
  },
  "language_info": {
   "codemirror_mode": {
    "name": "ipython",
    "version": 3
   },
   "file_extension": ".py",
   "mimetype": "text/x-python",
   "name": "python",
   "nbconvert_exporter": "python",
   "pygments_lexer": "ipython3",
   "version": "3.9.13"
  },
  "orig_nbformat": 4,
  "vscode": {
   "interpreter": {
    "hash": "ee26f7409316daca8ef2e9f71bea2afa8f61410a841c91f6c5c047503e08e436"
   }
  }
 },
 "nbformat": 4,
 "nbformat_minor": 2
}
