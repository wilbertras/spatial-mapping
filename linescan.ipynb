{
 "cells": [
  {
   "cell_type": "code",
   "execution_count": null,
   "metadata": {},
   "outputs": [],
   "source": [
    "import numpy as np\n",
    "from numpy.random import normal\n",
    "import matplotlib.pyplot as plt\n",
    "import knights_tour\n",
    "from matplotlib.markers import MarkerStyle\n",
    "import scipy\n",
    "from scipy.optimize import curve_fit\n",
    "import copy\n",
    "%matplotlib widget\n"
   ]
  },
  {
   "cell_type": "code",
   "execution_count": null,
   "metadata": {},
   "outputs": [],
   "source": [
    "def image(f, s0):\n",
    "    return 1 / (1/f - 1/s0)\n",
    "\n",
    "def mag(f, s0):\n",
    "    return - f / (s0 - f)\n",
    "\n",
    "def object(M, f):\n",
    "    return - f / M + f\n",
    "\n",
    "M = -1/2\n",
    "\n",
    "M_max = - 2 / 7 \n",
    "\n",
    "f = 500\n",
    "\n",
    "s0 = object(M, f)\n",
    "si = image(f, s0)\n",
    "print(7/2, 1/M_max, s0, si)"
   ]
  },
  {
   "cell_type": "code",
   "execution_count": null,
   "metadata": {},
   "outputs": [],
   "source": [
    "f1 = 100\n",
    "f2 = 100\n",
    "s01 = 0.5*f1\n",
    "d = f1 + f2\n",
    "si1 = image(f1, s01)\n",
    "s02 = d - si1\n",
    "si2 = image(f, s02)\n",
    "m = mag(f1, s01) * mag(f2, s02)\n",
    "print(m, si2)"
   ]
  },
  {
   "cell_type": "code",
   "execution_count": null,
   "metadata": {},
   "outputs": [],
   "source": [
    "dF = 4e6\n",
    "F_min = 5e9\n",
    "F_max = 7e9\n",
    "gridx = 20\n",
    "gridy = 20\n",
    "nr_pxl = gridx * gridy\n",
    "pitchx = 150\n",
    "pitchy = 150\n",
    "sigma = 5.9e-3\n",
    "F_design = np.linspace(F_min, F_max, nr_pxl)\n",
    "idx_design = np.argsort(F_design, axis=0, kind='quicksort')\n",
    "scatter = normal(0, sigma, F_design.shape)\n",
    "F_meas = F_design + F_design * scatter\n",
    "idx_meas = np.argsort(F_meas, axis=0, kind='quicksort')\n",
    "swapped = np.nonzero(idx_design-idx_meas)"
   ]
  },
  {
   "cell_type": "code",
   "execution_count": null,
   "metadata": {},
   "outputs": [],
   "source": [
    "fig, ax = plt.subplot_mosaic('abc', constrained_layout=True)\n",
    "_ = ax['a'].scatter(np.arange(400), F_design)\n",
    "_ = ax['a'].scatter(np.arange(400), F_meas)\n",
    "secax = ax['a'].twinx()\n",
    "_ = secax.plot(F_design - F_meas)\n",
    "_ = ax['b'].hist((F_design-F_meas)/F_design)\n",
    "_ = ax['c'].hist((F_meas[1:]-F_meas[:-1])*1e-6)\n",
    "\n"
   ]
  },
  {
   "cell_type": "code",
   "execution_count": null,
   "metadata": {},
   "outputs": [],
   "source": [
    "# idx = np.array([[1, 16, 7, 26, 11, 14], [34, 25, 12, 15, 6, 27], [17, 2, 33, 8, 13, 10], [32, 35, 24, 21, 28, 5], [23, 18, 3, 30, 9, 20], [36, 31, 22, 19, 4, 29]])\n",
    "idx = np.load('./LT295_400pxl_design\\KID_id_board_400.npy')\n",
    "coords = np.zeros((2, nr_pxl))\n",
    "for i in range(nr_pxl):\n",
    "    coords[:, i] = (np.argwhere(idx==i+1) - np.array([(gridx-1)/2, (gridy-1)/2])) * np.array([pitchx, pitchy])\n",
    "pos = copy.copy(coords)\n",
    "\n",
    "theta = 0 * np.pi\n",
    "rot_mat = np.array([[np.cos(theta), np.sin(theta)],\n",
    "                    [-np.sin(theta), np.cos(theta)]])\n",
    "print(rot_mat)\n",
    "misalign = np.array([0, 0])\n",
    "\n",
    "fig, ax = plt.subplot_mosaic('ab', constrained_layout=True)\n",
    "for i in range(nr_pxl):\n",
    "    pos[:, i] = np.matmul(rot_mat, pos[:, i]) + misalign\n",
    "    _ = ax['a'].scatter(coords[0, i], coords[1, i], c='b', marker='$%d$' % (idx_design[i]), edgecolors='b', linewidths=0.5)\n",
    "    if i in swapped[0]:\n",
    "        _ = ax['b'].scatter(pos[0, i], pos[1, i], c='r', marker='$%d$' % (idx_meas[i]), edgecolors='r', linewidths=0.5)\n",
    "    else:\n",
    "        _ = ax['b'].scatter(pos[0, i], pos[1, i], c='b', marker='$%d$' % (idx_meas[i]), edgecolors='b', linewidths=0.5)\n",
    "# _ = ax['b'].scatter(pos[0, swapped], pos[1, swapped], c='None', marker='o', edgecolors='r', linewidths=0.5)\n",
    "_ = ax['a'].axis('equal')\n",
    "_ = ax['a'].axvline(0, 0, 1, color='k', linewidth=0.5)\n",
    "_ = ax['a'].axhline(0, 0, 1, color='k', linewidth=0.5)\n",
    "_ = ax['b'].axis('equal')\n",
    "_ = ax['b'].axvline(0, 0, 1, color='k', linewidth=0.5)\n",
    "_ = ax['b'].axhline(0, 0, 1, color='k', linewidth=0.5)"
   ]
  },
  {
   "cell_type": "code",
   "execution_count": null,
   "metadata": {},
   "outputs": [],
   "source": [
    "bw = 10\n",
    "dx = 10\n",
    "startx = -gridx * pitchx\n",
    "stopx = gridx*pitchx\n",
    "dy = 10\n",
    "starty = -gridy * pitchy\n",
    "stopy = gridy * pitchy\n",
    "posx = np.arange(startx, stopx+dx, dx)\n",
    "posy = np.arange(starty, stopy+dy, dy)\n",
    "tstepx = np.arange(len(posx))\n",
    "tstepy = np.arange(len(posy))\n",
    "datax = np.zeros((nr_pxl, len(posx)))\n",
    "datay = np.zeros((nr_pxl, len(posy)))\n",
    "\n",
    "for t in tstepx:\n",
    "    x = posx[t]\n",
    "    kids = idx_meas[(pos[0, :] >= x-bw/2 ) & (pos[0, :] <= x+bw/2 )]\n",
    "    if len(kids) != 0:\n",
    "        for kid in kids:\n",
    "            datax[kid, t] = 1\n",
    "for i in range(nr_pxl):\n",
    "    old_row = datax[i, :]\n",
    "    idx_pxl = np.mean(np.nonzero(old_row))\n",
    "    new_row = np.zeros((datax.shape[1]))\n",
    "    new_row[int(idx_pxl)] = 1\n",
    "    datax[i, :] = new_row\n",
    "\n",
    "for t in tstepy:\n",
    "    y = posy[t]\n",
    "    kids = idx_meas[(pos[1, :] >= y-bw/2 ) & (pos[1, :] <= y+bw/2 )]\n",
    "    if len(kids) != 0:\n",
    "        for kid in kids:\n",
    "            datay[kid, t] = 1\n",
    "for i in range(nr_pxl):\n",
    "    old_row = datay[i, :]\n",
    "    idx_pxl = np.mean(np.nonzero(old_row))\n",
    "    new_row = np.zeros((datax.shape[1]))\n",
    "    new_row[int(idx_pxl)] = 1\n",
    "    datay[i, :] = new_row\n"
   ]
  },
  {
   "cell_type": "code",
   "execution_count": null,
   "metadata": {},
   "outputs": [],
   "source": [
    "meas_pos = np.zeros((2, nr_pxl))\n",
    "fig, ax = plt.subplot_mosaic('abc')\n",
    "for i in range(nr_pxl):\n",
    "    kidx = posx[datax[i, :]==1]\n",
    "    kidy = posy[datay[i, :]==1]\n",
    "    meas_pos[0, i] = kidx[0]\n",
    "    meas_pos[1, i] = kidy[0]\n",
    "meas_pos[0, :] -= np.mean(meas_pos[0, :])\n",
    "meas_pos[1, :] -= np.mean(meas_pos[1, :])\n",
    "H = np.matmul(meas_pos, coords.T)\n",
    "[u, s, v] = np.linalg.svd(H)\n",
    "R = np.matmul(v, u.T)\n",
    "theta = np.arccos(R[0, 0])\n",
    "print('theta = %.2f pi' % (theta / np.pi))\n",
    "rot_mat = np.array([[np.cos(theta), np.sin(theta)],\n",
    "                    [-np.sin(theta), np.cos(theta)]])\n",
    "misalign = np.array([0, 0])\n",
    "overlapping = []\n",
    "for i in range(nr_pxl):\n",
    "    kidx = posx[datax[i, :]==1]\n",
    "    kidy = posy[datay[i, :]==1]\n",
    "    _ = ax['a'].scatter(coords[0, i], coords[1, i], c='b', marker='$%d$' % (idx_design[i]), edgecolors='b', linewidths=0.5)\n",
    "    fit_pos = np.matmul(rot_mat, coords[:, i]) + misalign\n",
    "    _ = ax['b'].scatter(pos[0, i], pos[1, i], c='b', marker='$%d$' % (idx_design[i]), edgecolors='b', linewidths=0.5)\n",
    "    if np.absolute(kidx - fit_pos[0]) > pitchx/2 or np.absolute(kidy - fit_pos[1]) > pitchy/2:\n",
    "        _ = ax['c'].scatter(kidx, kidy, c='r', marker='$%d$' % (i), edgecolors='r', linewidths=0.5)\n",
    "        overlapping.append(i)\n",
    "    else:\n",
    "        _ = ax['c'].scatter(kidx, kidy, c='b', marker='$%d$' % (i), edgecolors='b', linewidths=0.5)\n",
    "overlapping = np.array(overlapping)  \n",
    "print('Correctly identified swapped resonators:', len(np.setdiff1d(swapped, overlapping))==0)\n",
    "_ = ax['a'].axis('equal')\n",
    "_ = ax['a'].axvline(0, 0, 1, color='k', linewidth=0.5)\n",
    "_ = ax['a'].axhline(0, 0, 1, color='k', linewidth=0.5)\n",
    "_ = ax['b'].axis('equal')\n",
    "_ = ax['b'].axvline(0, 0, 1, color='k', linewidth=0.5)\n",
    "_ = ax['b'].axhline(0, 0, 1, color='k', linewidth=0.5)\n",
    "_ = ax['c'].axis('equal')\n",
    "_ = ax['c'].axvline(0, 0, 1, color='k', linewidth=0.5)\n",
    "_ = ax['c'].axhline(0, 0, 1, color='k', linewidth=0.5)"
   ]
  },
  {
   "cell_type": "code",
   "execution_count": null,
   "metadata": {},
   "outputs": [],
   "source": [
    "theta = np.arccos(R[0, 0])\n",
    "print(theta / np.pi)"
   ]
  },
  {
   "cell_type": "code",
   "execution_count": null,
   "metadata": {},
   "outputs": [],
   "source": [
    "theta = 1 * np.pi\n",
    "rot_mat = np.array([[np.cos(theta), np.sin(theta)],\n",
    "                    [-np.sin(theta), np.cos(theta)]])\n",
    "misalign = np.array([0, 0])\n",
    "\n",
    "\n",
    "a = np.array([[0, 1, 0.5],\n",
    "              [1, 0, 0.5]])\n",
    "b = np.array([[0, -1, -0.5],\n",
    "              [-1, 0, -0.5]])\n",
    "\n",
    "def rotate(vector, theta):\n",
    "    rot_mat = np.array([[np.cos(theta), np.sin(theta)],\n",
    "                        [-np.sin(theta), np.cos(theta)]])\n",
    "    return np.matmul(rot_mat, vector)\n",
    "\n",
    "rotate(a, np.pi)"
   ]
  },
  {
   "cell_type": "code",
   "execution_count": null,
   "metadata": {},
   "outputs": [],
   "source": [
    "H = np.matmul(a, b.T)\n",
    "[u, s, v] = np.linalg.svd(H)\n",
    "R = np.matmul(v, u.T)"
   ]
  },
  {
   "cell_type": "code",
   "execution_count": null,
   "metadata": {},
   "outputs": [],
   "source": [
    "R"
   ]
  }
 ],
 "metadata": {
  "kernelspec": {
   "display_name": ".venv",
   "language": "python",
   "name": "python3"
  },
  "language_info": {
   "codemirror_mode": {
    "name": "ipython",
    "version": 3
   },
   "file_extension": ".py",
   "mimetype": "text/x-python",
   "name": "python",
   "nbconvert_exporter": "python",
   "pygments_lexer": "ipython3",
   "version": "3.9.13"
  },
  "orig_nbformat": 4,
  "vscode": {
   "interpreter": {
    "hash": "ee26f7409316daca8ef2e9f71bea2afa8f61410a841c91f6c5c047503e08e436"
   }
  }
 },
 "nbformat": 4,
 "nbformat_minor": 2
}
